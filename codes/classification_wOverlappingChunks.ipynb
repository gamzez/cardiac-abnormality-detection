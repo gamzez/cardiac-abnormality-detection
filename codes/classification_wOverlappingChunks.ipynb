{
 "cells": [
  {
   "cell_type": "markdown",
   "metadata": {},
   "source": [
    "# Classifier Training - With overlapping chunks\n",
    "This script is creating the complete dataset and training various classifiers. The dataset is prepared such that 4 seconds of overlapping chunks are picked out of each record, total number of chunks for a single record being 4. \n",
    "\n",
    "The processing is as follows:\n",
    "1. PCG records are loaded and chunked.\n",
    "2. Chunks are normalized usng RMS normalization\n",
    "3. Extraction of feature 1: **PCA of MFCC**\n",
    "4. Extraction of feature 2: **Statistics of MFCC**\n",
    "5. Extraction of feature 3: **Bandpower ratio**\n",
    "6. Loading segmentation features and mergin all features and labels into a single array\n",
    "7. Calculating K-Fold validation for Logistic Regression, Random Forest and AdaBoost classifiers\n",
    "\n",
    "**Note:** *K-Fold validation is done such that all chunk of a record belongs to either training or test set.*"
   ]
  },
  {
   "cell_type": "code",
   "execution_count": 1,
   "metadata": {},
   "outputs": [],
   "source": [
    "import numpy as np\n",
    "import librosa\n",
    "import librosa.display\n",
    "from sklearn.model_selection import train_test_split\n",
    "from sklearn.linear_model import LogisticRegression\n",
    "from python_speech_features import mfcc\n",
    "from python_speech_features import delta\n",
    "from sklearn.decomposition import PCA\n",
    "from sklearn.model_selection import cross_val_score\n",
    "from sklearn.model_selection import KFold\n",
    "from sklearn.ensemble import RandomForestClassifier\n",
    "from sklearn.ensemble import AdaBoostClassifier\n",
    "import scipy\n",
    "from utils import *\n",
    "import random\n"
   ]
  },
  {
   "cell_type": "markdown",
   "metadata": {},
   "source": [
    "**Data Loading and RMS Normalization**"
   ]
  },
  {
   "cell_type": "code",
   "execution_count": 2,
   "metadata": {},
   "outputs": [],
   "source": [
    "sampling_frequency = 2000 # in Hz\n",
    "slice_length = 4          # in seconds\n",
    "overlap = 2               # in seconds\n",
    "\n",
    "normal_records, normal_records_denoised = load_records(path = '../dataset/normal_tracings.txt',normalize = False, crop = 20000)\n",
    "abnormal_records, abnormal_records_denoised = load_records(path = '../dataset/abnormal_tracings.txt',normalize = False, crop = 20000)\n",
    "records_train = np.concatenate((abnormal_records_denoised, normal_records_denoised), axis=0)\n",
    "labels = np.concatenate((np.ones((abnormal_records_denoised.shape[0],1)),np.zeros((normal_records.shape[0],1))), axis=0)\n",
    "\n",
    "normal_records_chunks = np.zeros((normal_records_denoised.shape[0], 4, slice_length*sampling_frequency))\n",
    "slices = np.arange(0, 10, slice_length-overlap, dtype=int)\n",
    "for i in range(normal_records.shape[0]):\n",
    "    j = 0\n",
    "    for start, end in zip(slices[:-1], slices[1:]):\n",
    "        start_audio = start * sampling_frequency\n",
    "        end_audio = (end + overlap)* sampling_frequency\n",
    "        chunk = normal_records_denoised[i, int(start_audio): int(end_audio)]\n",
    "        normal_records_chunks[i, j, :] = chunk\n",
    "        j = j + 1  \n",
    "        \n",
    "abnormal_records_chunks = np.zeros((abnormal_records_denoised.shape[0], 4, slice_length*sampling_frequency))\n",
    "for i in range(abnormal_records.shape[0]):\n",
    "    j = 0\n",
    "    for start, end in zip(slices[:-1], slices[1:]):\n",
    "        start_audio = start * sampling_frequency\n",
    "        end_audio = (end + overlap)* sampling_frequency\n",
    "        chunk = abnormal_records_denoised[i, int(start_audio): int(end_audio)]\n",
    "        abnormal_records_chunks[i, j, :] = chunk\n",
    "        j = j + 1  \n",
    "\n",
    "abnormal_records_chunks_reshaped = np.reshape(abnormal_records_chunks, (33*4, 8000))\n",
    "normal_records_chunks_reshaped = np.reshape(normal_records_chunks, (29*4, 8000))\n",
    "all_records_chunked = np.concatenate((abnormal_records_chunks_reshaped, normal_records_chunks_reshaped), axis = 0)\n",
    "all_records_chunked_normalized = np.zeros_like(all_records_chunked)\n",
    "labels_chunked = np.concatenate((np.ones((abnormal_records_chunks_reshaped.shape[0],1)),np.zeros((normal_records_chunks_reshaped.shape[0],1))), axis=0)\n",
    "\n",
    "\n",
    "for i in range(all_records_chunked.shape[0]):\n",
    "    data = all_records_chunked[i,:]\n",
    "    rms_level = 0\n",
    "    r = 10**(rms_level / 10.0)\n",
    "    a = np.sqrt( (len(data) * r**2) / np.sum(data**2) )\n",
    "    data = data * a\n",
    "    all_records_chunked_normalized[i,:] = data\n"
   ]
  },
  {
   "cell_type": "markdown",
   "metadata": {},
   "source": [
    "**Feature 1: PCA of MFCC**"
   ]
  },
  {
   "cell_type": "code",
   "execution_count": 3,
   "metadata": {},
   "outputs": [],
   "source": [
    "all_mfcc = []\n",
    "all_mfcc_delta = []\n",
    "all_mfcc_delta2 = []\n",
    "for im in range(all_records_chunked_normalized.shape[0]): \n",
    "    mfc_coefs = mfcc(all_records_chunked_normalized[im,:],  samplerate=2000, winlen =0.1, winstep = 0.1, nfft = 1024)\n",
    "    mfc_coefs = mfc_coefs.T\n",
    "    delta_mfc_coefs = delta(mfc_coefs, 3)\n",
    "    delta2_mfc_coefs = delta(delta_mfc_coefs, 2)\n",
    "    \n",
    "    all_mfcc.append(mfc_coefs)\n",
    "    all_mfcc_delta.append(delta_mfc_coefs)\n",
    "    all_mfcc_delta2.append(delta2_mfc_coefs)\n",
    "\n",
    "all_mfcc = np.array(all_mfcc)\n",
    "all_mfcc_delta = np.array(all_mfcc_delta)\n",
    "all_mfcc_delta2 = np.array(all_mfcc_delta2)\n",
    "\n",
    "mfcc_pca = []\n",
    "for im in range(0,13):\n",
    "    pca = PCA(n_components=1)\n",
    "    mfcc_transformed = pca.fit_transform(np.array(all_mfcc)[:,im,:])\n",
    "    mfcc_pca.append(mfcc_transformed[:,0])  \n",
    "mfcc_pca = np.array(mfcc_pca).T  #248x13\n",
    "\n",
    "delta_mfcc_pca = []\n",
    "for im in range(0,13):\n",
    "    pca = PCA(n_components=1)\n",
    "    delta_mfcc_transformed = pca.fit_transform(np.array(all_mfcc_delta)[:,im,:])\n",
    "    delta_mfcc_pca.append(delta_mfcc_transformed[:,0])\n",
    "delta_mfcc_pca = np.array(delta_mfcc_pca).T  #248x13\n",
    "\n",
    "delta2_mfcc_pca = []\n",
    "for im in range(0,13):\n",
    "    pca = PCA(n_components=1)\n",
    "    delta2_mfcc_transformed = pca.fit_transform(np.array(all_mfcc_delta2)[:,im,:])\n",
    "    delta2_mfcc_pca.append(delta2_mfcc_transformed[:,0])\n",
    "delta2_mfcc_pca = np.array(delta2_mfcc_pca).T  #248x13\n",
    "\n",
    "#plot_singleFeature(delta2_mfcc_pca[:,7], \"9. Delta-MFCC feature with dimensionality reduced in time domain via PCA (winlen:0.1 sec)\")"
   ]
  },
  {
   "cell_type": "markdown",
   "metadata": {},
   "source": [
    "**Feature 2: Statistics of MFCC**"
   ]
  },
  {
   "cell_type": "code",
   "execution_count": 4,
   "metadata": {},
   "outputs": [],
   "source": [
    "mfcc_means = np.zeros((all_records_chunked_normalized.shape[0],13),dtype='float32')  #248x13\n",
    "mfcc_std = np.zeros((all_records_chunked_normalized.shape[0],13),dtype='float32')\n",
    "mfcc_max = np.zeros((all_records_chunked_normalized.shape[0],13),dtype='float32')\n",
    "mfcc_min = np.zeros((all_records_chunked_normalized.shape[0],13),dtype='float32')\n",
    "\n",
    "mfcc_delta_means = np.zeros((all_records_chunked_normalized.shape[0],13),dtype='float32')\n",
    "mfcc_delta_std = np.zeros((all_records_chunked_normalized.shape[0],13),dtype='float32')\n",
    "mfcc_delta_max = np.zeros((all_records_chunked_normalized.shape[0],13),dtype='float32')\n",
    "mfcc_delta_min = np.zeros((all_records_chunked_normalized.shape[0],13),dtype='float32')\n",
    "\n",
    "mfcc_delta2_means = np.zeros((all_records_chunked_normalized.shape[0],13),dtype='float32')\n",
    "mfcc_delta2_std = np.zeros((all_records_chunked_normalized.shape[0],13),dtype='float32')\n",
    "mfcc_delta2_max = np.zeros((all_records_chunked_normalized.shape[0],13),dtype='float32')\n",
    "mfcc_delta2_min = np.zeros((all_records_chunked_normalized.shape[0],13),dtype='float32')\n",
    "\n",
    "\n",
    "for im in range(all_records_chunked_normalized.shape[0]):   \n",
    "    for j in range(13):\n",
    "        mfcc_means[im,j] = np.mean(all_mfcc[im,j,:])\n",
    "        mfcc_std[im,j] = np.std(all_mfcc[im,j,:])\n",
    "        mfcc_max[im,j] = np.max(all_mfcc[im,j,:])\n",
    "        mfcc_min[im,j] = np.min(all_mfcc[im,j,:])\n",
    "        \n",
    "        mfcc_delta_means[im,j] = np.mean(all_mfcc_delta[im,j,:])\n",
    "        mfcc_delta_std[im,j] = np.std(all_mfcc_delta[im,j,:])\n",
    "        mfcc_delta_max[im,j] = np.max(all_mfcc_delta[im,j,:])\n",
    "        mfcc_delta_min[im,j] = np.min(all_mfcc_delta[im,j,:])\n",
    "        \n",
    "        mfcc_delta2_means[im,j] = np.mean(all_mfcc_delta2[im,j,:])\n",
    "        mfcc_delta2_std[im,j] = np.std(all_mfcc_delta2[im,j,:])\n",
    "        mfcc_delta2_max[im,j] = np.max(all_mfcc_delta2[im,j,:])\n",
    "        mfcc_delta2_min[im,j] = np.min(all_mfcc_delta2[im,j,:])\n",
    "\n",
    "#plot_feature_wDeltas(mfcc_max, mfcc_delta_max, mfcc_delta2_max ,\". MFCC feature with dimensionality reduced in time domain via taking the minimum\")\n",
    "#plot_singleFeature(mfcc_delta_max[:,8], \"9. MFCC feature with dimensionality reduced in time domain via taking maximum\")"
   ]
  },
  {
   "cell_type": "markdown",
   "metadata": {},
   "source": [
    "**Feature 3: Bandpower ratio**"
   ]
  },
  {
   "cell_type": "code",
   "execution_count": 5,
   "metadata": {},
   "outputs": [],
   "source": [
    "bin_start = 35\n",
    "bin_end = 70\n",
    "\n",
    "abnormal_bandpowers = np.zeros((abnormal_records_chunks_reshaped.shape[0],1))   \n",
    "for i in range(0,abnormal_records_chunks_reshaped.shape[0]):  ###number of abnormal recs\n",
    "    total_power = bandpower(abnormal_records_chunks_reshaped[i,:],2000,0,1000)\n",
    "    bp = bandpower(abnormal_records_chunks_reshaped[i,:],2000,bin_start,bin_end)\n",
    "    #print(bp)\n",
    "    abnormal_bandpowers[i,0] = 10*np.log10(bp/total_power)\n",
    "\n",
    "normal_bandpowers = np.zeros((normal_records_chunks_reshaped.shape[0],1))   \n",
    "for i in range(0,normal_records_chunks_reshaped.shape[0]):  ###number of abnormal recs\n",
    "    total_power = bandpower(normal_records_chunks_reshaped[i,:],2000,0,1000)\n",
    "    bp = bandpower(normal_records_chunks_reshaped[i,:],2000,bin_start,bin_end)\n",
    "    #print(bp)\n",
    "    normal_bandpowers[i,0] = 10*np.log10(bp/total_power)\n",
    "    \n",
    "bandpower_feature = np.concatenate((abnormal_bandpowers, normal_bandpowers), axis = 0)\n",
    "#plot_singleFeature(bandpower_feature, \"9. MFCC feature with dimensionality reduced in time domain via taking maximum\")\n"
   ]
  },
  {
   "cell_type": "markdown",
   "metadata": {},
   "source": [
    "**Feature Selection**"
   ]
  },
  {
   "cell_type": "code",
   "execution_count": 8,
   "metadata": {},
   "outputs": [
    {
     "name": "stdout",
     "output_type": "stream",
     "text": [
      "Shape of all features  (240, 10)\n"
     ]
    },
    {
     "name": "stderr",
     "output_type": "stream",
     "text": [
      "C:\\Users\\berka\\AppData\\Local\\Temp/ipykernel_7500/148250991.py:17: RuntimeWarning: invalid value encountered in true_divide\n",
      "  ratio = all_mean_S1 / all_mean_S2\n"
     ]
    }
   ],
   "source": [
    "pca_feature_1 = np.expand_dims(mfcc_pca[:,6], axis=-1)\n",
    "pca_feature_2 = np.expand_dims(mfcc_pca[:,7], axis=-1)\n",
    "sts_feature_1 = np.expand_dims(mfcc_min[:,7], axis=-1) \n",
    "sts_feature_2 = np.expand_dims(mfcc_min[:,8], axis=-1) \n",
    "\n",
    "all_mean_S1 = np.load(\"cardiac_cycle_segmentation_features/all_mean_S1.npy\")\n",
    "all_mean_S2 = np.load(\"cardiac_cycle_segmentation_features/all_mean_S2.npy\")\n",
    "all_std_S1 = np.load(\"cardiac_cycle_segmentation_features/all_std_S1.npy\")\n",
    "all_std_S2 = np.load(\"cardiac_cycle_segmentation_features/all_std_S2.npy\")\n",
    "ratio = all_mean_S1 / all_mean_S2\n",
    "heartrate = all_mean_S1 + all_mean_S2\n",
    "\n",
    "all_features = np.concatenate((pca_feature_1, pca_feature_2, sts_feature_1, sts_feature_2, bandpower_feature, all_mean_S1, all_mean_S2, all_std_S1, all_std_S2, ratio), axis = -1)\n",
    "\n",
    "rejection = [68,69,70,71,108,109,110,111]  \n",
    "all_features_woRejections = np.delete(all_features, rejection, axis = 0)\n",
    "labels_chunked_woRejections = np.delete(labels_chunked, rejection, axis = 0)\n",
    "print(f'Shape of all features  {all_features_woRejections.shape}')\n"
   ]
  },
  {
   "cell_type": "markdown",
   "metadata": {},
   "source": [
    "**Feature Selection**"
   ]
  },
  {
   "cell_type": "code",
   "execution_count": 13,
   "metadata": {},
   "outputs": [
    {
     "name": "stdout",
     "output_type": "stream",
     "text": [
      "mean LR train set accuracy is 0.7447916666666667%\n",
      "mean LR test set accuracy is 0.7125%\n",
      "mean RF train set accuracy is 1.0%\n",
      "mean RF test set accuracy is 0.7166666666666667%\n",
      "mean AB train set accuracy is 0.9916666666666668%\n",
      "mean AB test set accuracy is 0.6375000000000001%\n"
     ]
    }
   ],
   "source": [
    "num_fold = 5\n",
    "chunk_number = 4\n",
    "num_records = 60\n",
    "fold_length = int(num_records/num_fold)\n",
    "\n",
    "abnormal_feature_matrix = np.array(all_features_woRejections[0:124,:]) \n",
    "normal_feature_matrix = np.array(all_features_woRejections[124:240,:])\n",
    "labels_abnormal_features = np.array(labels_chunked_woRejections[0:124,:]) \n",
    "labels_normal_features = np.array(labels_chunked_woRejections[124:240,:]) \n",
    "\n",
    "### Shuffling\n",
    "indices_abnormal = np.arange(0,31,1) \n",
    "np.random.shuffle(indices_abnormal)\n",
    "indices_abnormal = indices_abnormal.astype(int)\n",
    "indices_normal = np.arange(0,29,1) \n",
    "np.random.shuffle(indices_normal)\n",
    "indices_normal = indices_normal.astype(int)\n",
    "\n",
    "abnormal_feature_matrix = np.reshape(abnormal_feature_matrix, (31,4,all_features_woRejections.shape[-1]))\n",
    "labels_abnormal_features = np.reshape(labels_abnormal_features, (31,4,1)) \n",
    "normal_feature_matrix = np.reshape(normal_feature_matrix, (29,4,all_features_woRejections.shape[-1]))\n",
    "labels_normal_features = np.reshape(labels_normal_features, (29,4,1)) \n",
    "\n",
    "abnormal_features_shuffled = np.array((abnormal_feature_matrix)[indices_abnormal])\n",
    "normal_features_shuffled = np.array((normal_feature_matrix)[indices_normal])\n",
    "labels_abnormal_shuffled = np.array((labels_abnormal_features)[indices_abnormal])\n",
    "labels_normal_shuffled = np.array((labels_normal_features)[indices_normal])\n",
    "\n",
    "feature_matrix=np.zeros((58,4,all_features_woRejections.shape[-1])) \n",
    "label_matrix=-1 * np.ones((58,4,1)) \n",
    "for k in range (0,29):\n",
    "    n = random.randint(0,1)\n",
    "    if n==0:\n",
    "        feature_matrix[2*k,:,:] = abnormal_features_shuffled[k,:,:] \n",
    "        label_matrix[2*k,:,:] = labels_abnormal_shuffled[k,:,:]\n",
    "        feature_matrix[2*k+1,:,:] = normal_features_shuffled[k,:,:]\n",
    "        label_matrix[2*k+1,:,:] = labels_normal_shuffled[k,:,:]\n",
    "    else:\n",
    "        feature_matrix[2*k,:,:] = normal_features_shuffled[k,:,:] \n",
    "        label_matrix[2*k,:,:] = labels_normal_shuffled[k,:,:]\n",
    "        feature_matrix[2*k+1,:,:] = abnormal_features_shuffled[k,:,:]\n",
    "        label_matrix[2*k+1,:,:] = labels_abnormal_shuffled[k,:,:]\n",
    "\n",
    "a = random.randint(0,58)\n",
    "feature_matrix = np.insert(feature_matrix,a,abnormal_features_shuffled[29,:,:],axis=0)\n",
    "label_matrix = np.insert(label_matrix,a,labels_abnormal_shuffled[29,:,:],axis=0)\n",
    "\n",
    "a = random.randint(0,59)\n",
    "feature_matrix = np.insert(feature_matrix,a,abnormal_features_shuffled[30,:,:],axis=0)\n",
    "label_matrix = np.insert(label_matrix,a,labels_abnormal_shuffled[30,:,:],axis=0)\n",
    "\n",
    "feature_matrix = np.reshape(feature_matrix, (240,all_features_woRejections.shape[-1]))\n",
    "label_matrix = np.reshape(label_matrix, (240,1))\n",
    "\n",
    "LR_train_accuracy = []\n",
    "LR_test_accuracy = []\n",
    "RF_train_accuracy = []\n",
    "RF_test_accuracy = []\n",
    "AB_train_accuracy = []\n",
    "AB_test_accuracy = []\n",
    "\n",
    "for i in range(num_fold): \n",
    "    test_selection = np.arange(fold_length * i, fold_length * (i+1)) \n",
    "    test_selection_expanded = np.zeros((fold_length * chunk_number,), dtype=int) \n",
    "    \n",
    "    for j in range(fold_length):\n",
    "        test_selection_expanded[4 * j] = test_selection[j] * 4          \n",
    "        test_selection_expanded[4 * j + 1] = test_selection[j] * 4 + 1\n",
    "        test_selection_expanded[4 * j + 2] = test_selection[j] * 4 + 2\n",
    "        test_selection_expanded[4 * j + 3] = test_selection[j] * 4 + 3\n",
    "    \n",
    "    X_train = np.delete(feature_matrix, test_selection_expanded, axis = 0) \n",
    "    X_test = feature_matrix[test_selection_expanded,:]\n",
    "    y_train = np.ravel(np.delete(label_matrix, test_selection_expanded, axis = 0))\n",
    "    y_test = np.ravel(label_matrix[test_selection_expanded])\n",
    "    RF = RandomForestClassifier(max_depth=25,  n_estimators = 150)\n",
    "    RF.fit(X_train, y_train)\n",
    "    LR = LogisticRegression(max_iter=3000, C=0.3)\n",
    "    LR.fit(X_train, y_train)\n",
    "    AB = AdaBoostClassifier(n_estimators = 50)\n",
    "    AB.fit(X_train, y_train)\n",
    "    LR_train_accuracy.append(LR.score(X_train, y_train))\n",
    "    LR_test_accuracy.append(LR.score(X_test, y_test))\n",
    "    RF_train_accuracy.append(RF.score(X_train, y_train))\n",
    "    RF_test_accuracy.append(RF.score(X_test, y_test))\n",
    "    AB_train_accuracy.append(AB.score(X_train, y_train))\n",
    "    AB_test_accuracy.append(AB.score(X_test, y_test))\n",
    "        \n",
    "mean_LR_train_accuracy = np.mean(np.array(LR_train_accuracy))\n",
    "mean_LR_test_accuracy = np.mean(np.array(LR_test_accuracy))   \n",
    "mean_RF_train_accuracy = np.mean(np.array(RF_train_accuracy))\n",
    "mean_RF_test_accuracy = np.mean(np.array(RF_test_accuracy))\n",
    "mean_AB_train_accuracy = np.mean(np.array(AB_train_accuracy))\n",
    "mean_AB_test_accuracy = np.mean(np.array(AB_test_accuracy))\n",
    "\n",
    "print(f'mean LR train set accuracy is {mean_LR_train_accuracy}%')\n",
    "print(f'mean LR test set accuracy is {mean_LR_test_accuracy}%')\n",
    "print(f'mean RF train set accuracy is {mean_RF_train_accuracy}%')\n",
    "print(f'mean RF test set accuracy is {mean_RF_test_accuracy}%')\n",
    "print(f'mean AB train set accuracy is {mean_AB_train_accuracy}%')\n",
    "print(f'mean AB test set accuracy is {mean_AB_test_accuracy}%')"
   ]
  },
  {
   "cell_type": "markdown",
   "metadata": {},
   "source": [
    "**Feature Importances**"
   ]
  },
  {
   "cell_type": "code",
   "execution_count": 10,
   "metadata": {},
   "outputs": [
    {
     "data": {
      "image/png": "[encoded data removed]",
      "text/plain": [
       "<Figure size 432x432 with 1 Axes>"
      ]
     },
     "metadata": {
      "needs_background": "light"
     },
     "output_type": "display_data"
    }
   ],
   "source": [
    "csfont = {'fontname':'Calibri'}\n",
    "yticks = [\"STD of diastole\", \"STD of systole\", \"minimum of 8th MFCC\", \"ratio of systole to diastole\", \"mean of systole\", \"mean of diastole\", \"bandpower ratio of 35-70Hz frequency bin\", \"minimum of 9th MFCC\", \"PCA of 8th MFCC\", \"PCA of 7th MFCC\"]\n",
    "features = all_features\n",
    "importances = RF.feature_importances_\n",
    "indices = np.argsort(importances)\n",
    "\n",
    "plt.figure(figsize=(6,6))\n",
    "plt.title('Feature Importances',fontsize = 14, **csfont)\n",
    "plt.barh(range(len(indices)), importances[indices], color='b', align='center')\n",
    "plt.yticks(range(len(indices)), yticks,fontsize = 13, **csfont)\n",
    "plt.xlabel('Relative Importance',fontsize = 13, **csfont)\n",
    "plt.show()"
   ]
  }
 ],
 "metadata": {
  "interpreter": {
   "hash": "7c1921d6cb1bbb6d983fc9ed48edae35d2edb378643e089b074f8a35a8a8a2d1"
  },
  "kernelspec": {
   "display_name": "Python 3.8.12 ('gamze_thesis')",
   "language": "python",
   "name": "python3"
  },
  "language_info": {
   "codemirror_mode": {
    "name": "ipython",
    "version": 3
   },
   "file_extension": ".py",
   "mimetype": "text/x-python",
   "name": "python",
   "nbconvert_exporter": "python",
   "pygments_lexer": "ipython3",
   "version": "3.8.12"
  },
  "orig_nbformat": 4
 },
 "nbformat": 4,
 "nbformat_minor": 2
}
